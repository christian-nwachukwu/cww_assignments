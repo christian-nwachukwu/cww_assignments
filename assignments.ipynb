{
  "nbformat": 4,
  "nbformat_minor": 0,
  "metadata": {
    "colab": {
      "provenance": [],
      "toc_visible": true,
      "authorship_tag": "ABX9TyPPzQ1+dxPD7tg0hT3yU+a/",
      "include_colab_link": true
    },
    "kernelspec": {
      "name": "python3",
      "display_name": "Python 3"
    },
    "language_info": {
      "name": "python"
    }
  },
  "cells": [
    {
      "cell_type": "markdown",
      "metadata": {
        "id": "view-in-github",
        "colab_type": "text"
      },
      "source": [
        "<a href=\"https://colab.research.google.com/github/christian-nwachukwu/cww_assignments/blob/main/assignments.ipynb\" target=\"_parent\"><img src=\"https://colab.research.google.com/assets/colab-badge.svg\" alt=\"Open In Colab\"/></a>"
      ]
    },
    {
      "cell_type": "code",
      "execution_count": null,
      "metadata": {
        "id": "30AQX2cS8Wfj"
      },
      "outputs": [],
      "source": [
        "#Assignments 1\n",
        "\"\"\"Create A todolist containing your to daily Todos using either a list of a Tuple\n",
        "Perform some operations for get a particular day todos one after the other, and add the add the operation that shows all your todos for the days accordingly.\n",
        "Hints:\n",
        "Use an Iteration\n",
        "Leverage the power of indexing\n",
        "\"\"\"\n",
        "\n",
        "\n",
        "todo_list = ['Academic Tasks', 'Extracurricular Activities', 'Personal Tasks',\n",
        " 'Wellness Activities', 'Long-term Goals', 'Time Buffers']\n",
        "\n",
        "print(todo_list[3])\n",
        "\n",
        "for task in todo_list:\n",
        "    print(task)"
      ]
    },
    {
      "cell_type": "code",
      "source": [
        "# Assignment 2\n",
        "\"\"\"Create a dictionary that contains your basic bio info, with must have property of skills which is a list of your skills\n",
        " Loop through your bio dict and print the key and values to stdout, for skills, Make Skills as an heading and print all the skills out too.\n",
        "\"\"\"\n",
        "\n",
        "\n",
        "print('PRINT DICTIONARY')\n",
        "my_bio = {\n",
        "  \"Name\": \"Christian Nwachukwu\",\n",
        "  \"Course\": \"Python Programming\",\n",
        "  \"Institution\": \"CWW Tech Africa\",\n",
        "  \"Status\": \"In Progress\",\n",
        "  \"Skills\": {'html', 'css', 'javascript', 'python', 'django framework', 'docker'}\n",
        "}\n",
        "print()\n",
        "# printing the dictionary\n",
        "print(my_bio)\n",
        "\n",
        "print()\n",
        "print()\n",
        "\n",
        "print('List of Skills')\n",
        "# print your skills\n",
        "print(my_bio['Skills'])\n",
        "\n",
        "print()\n",
        "print()\n",
        "\n",
        "print('LOOP THROUGH DICTIONARY')\n",
        "print()\n",
        "for key, value in my_bio.items():\n",
        "    print(f\"{key}: {value}\")"
      ],
      "metadata": {
        "id": "4mMsbN5s-EfV"
      },
      "execution_count": null,
      "outputs": []
    },
    {
      "cell_type": "code",
      "source": [
        "# Assignment 3\n",
        "\"\"\"Use a lamba expression to double each items in list of range 1 - 50 using List Comprehension\"\"\"\n",
        "numbers = range(51)\n",
        "new_list = list(map(lambda x: x**2, numbers))\n",
        "print(new_list)"
      ],
      "metadata": {
        "id": "IXTs1Mps-McX"
      },
      "execution_count": null,
      "outputs": []
    }
  ]
}